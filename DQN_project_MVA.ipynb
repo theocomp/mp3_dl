{
 "cells": [
  {
   "cell_type": "markdown",
   "metadata": {},
   "source": [
    "**You may need to install [OpenCV](https://pypi.python.org/pypi/opencv-python) and [scikit-video](http://www.scikit-video.org/stable/).**"
   ]
  },
  {
   "cell_type": "code",
   "execution_count": 17,
   "metadata": {},
   "outputs": [],
   "source": [
    "import keras\n",
    "import numpy as np\n",
    "import io\n",
    "import base64\n",
    "from IPython.display import HTML\n",
    "import skvideo.io\n",
    "import cv2\n",
    "import json\n",
    "\n",
    "from keras.models import Sequential,model_from_json\n",
    "from keras.layers.core import Dense\n",
    "from keras.optimizers import sgd\n",
    "from keras.layers import Conv2D, Flatten, MaxPooling2D, Activation, AveragePooling2D,Reshape,BatchNormalization, Dropout\n"
   ]
  },
  {
   "cell_type": "markdown",
   "metadata": {},
   "source": [
    "# MiniProject #3: Deep Reinforcement Learning"
   ]
  },
  {
   "cell_type": "markdown",
   "metadata": {},
   "source": [
    "__Notations__: $E_p$ is the expectation under probability $p$. Please justify each of your answer and widely comment your code."
   ]
  },
  {
   "cell_type": "markdown",
   "metadata": {},
   "source": [
    "# Context"
   ]
  },
  {
   "cell_type": "markdown",
   "metadata": {},
   "source": [
    "In a reinforcement learning algorithm, we modelize each step $t$ as an action $a_t$ obtained from a state $s_t$, i.e. $\\{(a_{t},s_{t})_{t\\leq T}\\}$ having the Markov property. We consider a discount factor $\\gamma \\in [0,1]$ that ensures convergence. The goal is to find among all the policies $\\pi$, one that maximizes the expected reward:\n",
    "\n",
    "\\begin{equation*}\n",
    "R(\\pi)=\\sum_{t\\leq T}E_{p^{\\pi}}[\\gamma^t r(s_{t},a_{t})] \\> ,\n",
    "\\end{equation*}\n",
    "\n",
    "where: \n",
    "\\begin{equation*}p^{\\pi}(a_{0},a_{1},s_{1},...,a_{T},s_{T})=p(a_{0})\\prod_{t=1}^{T}\\pi(a_{t}|s_{t})p(s_{t+1}|s_{t},a_{t}) \\> .\n",
    "\\end{equation*}\n",
    "\n",
    "We note the $Q$-function:\n",
    "\n",
    "\\begin{equation*}Q^\\pi(s,a)=E_{p^{\\pi}}[\\sum_{t\\leq T}\\gamma^{t}r(s_{t},a_{t})|s_{0}=s,a_{0}=a] \\> .\n",
    "\\end{equation*}\n",
    "\n",
    "Thus, the optimal Q function is:\n",
    "\\begin{equation*}\n",
    "Q^*(s,a)=\\max_{\\pi}Q^\\pi(s,a) \\> .\n",
    "\\end{equation*}\n",
    "\n",
    "In this project, we will apply the deep reinforcement learning techniques to a simple game: an agent will have to learn from scratch a policy that will permit it maximizing a reward."
   ]
  },
  {
   "cell_type": "markdown",
   "metadata": {},
   "source": [
    "## The environment, the agent and the game"
   ]
  },
  {
   "cell_type": "markdown",
   "metadata": {},
   "source": [
    "### The environment"
   ]
  },
  {
   "cell_type": "markdown",
   "metadata": {},
   "source": [
    "```Environment``` is an abstract class that represents the states, rewards, and actions to obtain the new state."
   ]
  },
  {
   "cell_type": "code",
   "execution_count": 2,
   "metadata": {},
   "outputs": [],
   "source": [
    "class Environment(object):\n",
    "    def __init__(self):\n",
    "        pass\n",
    "\n",
    "    def act(self, act):\n",
    "        \"\"\"\n",
    "        One can act on the environment and obtain its reaction:\n",
    "        - the new state\n",
    "        - the reward of the new state\n",
    "        - should we continue the game?\n",
    "\n",
    "        :return: state, reward, game_over\n",
    "        \"\"\"\n",
    "        pass\n",
    "\n",
    "\n",
    "    def reset(self):\n",
    "        \"\"\"\n",
    "        Reinitialize the environment to a random state and returns\n",
    "        the original state\n",
    "\n",
    "        :return: state\n",
    "        \"\"\"\n",
    "        pass\n",
    "    \n",
    "    def draw(self):\n",
    "        \"\"\"\n",
    "        Visualize in the console or graphically the current state\n",
    "        \"\"\"\n",
    "        pass"
   ]
  },
  {
   "cell_type": "markdown",
   "metadata": {},
   "source": [
    "The method ```act``` allows to act on the environment at a given state $s_t$ (stored internally), via action $a_t$. The method will return the new state $s_{t+1}$, the reward $r(s_{t},a_{t})$ and determines if $t\\leq T$ (*game_over*).\n",
    "\n",
    "The method ```reset``` simply reinitializes the environment to a random state $s_0$.\n",
    "\n",
    "The method ```draw``` displays the current state $s_t$ (this is useful to check the behavior of the Agent).\n",
    "\n",
    "We modelize $s_t$ as a tensor, while $a_t$ is an integer."
   ]
  },
  {
   "cell_type": "markdown",
   "metadata": {},
   "source": [
    "### The Agent"
   ]
  },
  {
   "cell_type": "markdown",
   "metadata": {},
   "source": [
    "The goal of the ```Agent``` is to interact with the ```Environment``` by proposing actions $a_t$ obtained from a given state $s_t$ to attempt to maximize its __reward__ $r(s_t,a_t)$. We propose the following abstract class:"
   ]
  },
  {
   "cell_type": "code",
   "execution_count": 3,
   "metadata": {},
   "outputs": [],
   "source": [
    "class Agent(object):\n",
    "    def __init__(self, epsilon=0.1, n_action=4):\n",
    "        self.epsilon = epsilon\n",
    "        self.n_action = n_action\n",
    "    \n",
    "    def set_epsilon(self,e):\n",
    "        self.epsilon = e\n",
    "\n",
    "    def act(self,s,train=True):\n",
    "        \"\"\" This function should return the next action to do:\n",
    "        an integer between 0 and 4 (not included) with a random exploration of epsilon\"\"\"\n",
    "        if train:\n",
    "            if np.random.rand() <= self.epsilon:\n",
    "                a = np.random.randint(0, self.n_action, size=1)[0]\n",
    "            else:\n",
    "                a = self.learned_act(s)\n",
    "        else: # in some cases, this can improve the performance.. remove it if poor performances\n",
    "            a = self.learned_act(s)\n",
    "\n",
    "        return a\n",
    "\n",
    "    def learned_act(self,s):\n",
    "        \"\"\" Act via the policy of the agent, from a given state s\n",
    "        it proposes an action a\"\"\"\n",
    "        pass\n",
    "\n",
    "    def reinforce(self, s, n_s, a, r, game_over_):\n",
    "        \"\"\" This function is the core of the learning algorithm. \n",
    "        It takes as an input the current state s_, the next state n_s_\n",
    "        the action a_ used to move from s_ to n_s_ and the reward r_.\n",
    "        \n",
    "        Its goal is to learn a policy.\n",
    "        \"\"\"\n",
    "        pass\n",
    "\n",
    "    def save(self):\n",
    "        \"\"\" This function returns basic stats if applicable: the\n",
    "        loss and/or the model\"\"\"\n",
    "        pass\n",
    "\n",
    "    def load(self):\n",
    "        \"\"\" This function allows to restore a model\"\"\"\n",
    "        pass"
   ]
  },
  {
   "cell_type": "markdown",
   "metadata": {},
   "source": [
    "***\n",
    "__Question 1__:\n",
    "Explain the function act. Why is ```epsilon``` essential?"
   ]
  },
  {
   "cell_type": "markdown",
   "metadata": {},
   "source": [
    "***\n",
    "__Answer__ : The function act return the next action to do. We generate a random number and if this number is less than ```epsilon``` we chose an action randomly. In the other case, we use the policy that we have learnt to chose next action. \n",
    "\n",
    "```epsilon``` is essential because it corresponds to the exploration-exploitation trade-off. In ```epsilon``` % of the time, the agent will explore and try new actions. It enables to explore and to try actions that we would not chose in some cases. \n",
    "***"
   ]
  },
  {
   "cell_type": "markdown",
   "metadata": {},
   "source": [
    "***\n",
    "### The Game"
   ]
  },
  {
   "cell_type": "markdown",
   "metadata": {},
   "source": [
    "The ```Agent``` and the ```Environment``` work in an interlaced way as in the following (take some time to understand this code as it is the core of the project)\n",
    "\n",
    "```python\n",
    "\n",
    "epoch = 300\n",
    "env = Environment()\n",
    "agent = Agent()\n",
    "\n",
    "\n",
    "# Number of won games\n",
    "score = 0\n",
    "loss = 0\n",
    "\n",
    "\n",
    "for e in range(epoch):\n",
    "    # At each epoch, we restart to a fresh game and get the initial state\n",
    "    state = env.reset()\n",
    "    # This assumes that the games will end\n",
    "    game_over = False\n",
    "\n",
    "    win = 0\n",
    "    lose = 0\n",
    "    \n",
    "    while not game_over:\n",
    "        # The agent performs an action\n",
    "        action = agent.act(state)\n",
    "\n",
    "        # Apply an action to the environment, get the next state, the reward\n",
    "        # and if the games end\n",
    "        prev_state = state\n",
    "        state, reward, game_over = env.act(action)\n",
    "\n",
    "        # Update the counters\n",
    "        if reward > 0:\n",
    "            win = win + reward\n",
    "        if reward < 0:\n",
    "            lose = lose -reward\n",
    "\n",
    "        # Apply the reinforcement strategy\n",
    "        loss = agent.reinforce(prev_state, state,  action, reward, game_over)\n",
    "\n",
    "    # Save as a mp4\n",
    "    if e % 10 == 0:\n",
    "        env.draw(e)\n",
    "\n",
    "    # Update stats\n",
    "    score += win-lose\n",
    "\n",
    "    print(\"Epoch {:03d}/{:03d} | Loss {:.4f} | Win/lose count {}/{} ({})\"\n",
    "          .format(e, epoch, loss, win, lose, win-lose))\n",
    "    agent.save()\n",
    "```"
   ]
  },
  {
   "cell_type": "markdown",
   "metadata": {},
   "source": [
    "# The game, *eat cheese*"
   ]
  },
  {
   "cell_type": "markdown",
   "metadata": {},
   "source": [
    "A rat runs on an island and tries to eat as much as possible. The island is subdivided into $N\\times N$ cells, in which there are cheese (+0.5) and poisonous cells (-1). The rat has a visibility of 2 cells (thus it can see $5^2$ cells). The rat is given a time $T$ to accumulate as much food as possible. It can perform 4 actions: going up, down, left, right. \n",
    "\n",
    "The goal is to code an agent to solve this task that will learn by trial and error. We propose the following environment:"
   ]
  },
  {
   "cell_type": "code",
   "execution_count": 4,
   "metadata": {},
   "outputs": [],
   "source": [
    "class Environment(object):\n",
    "    def __init__(self, grid_size=10, max_time=500, temperature=0.1):\n",
    "        grid_size = grid_size+4\n",
    "        self.grid_size = grid_size\n",
    "        self.max_time = max_time\n",
    "        self.temperature = temperature\n",
    "\n",
    "        #board on which one plays\n",
    "        self.board = np.zeros((grid_size,grid_size))\n",
    "        self.position = np.zeros((grid_size,grid_size))\n",
    "\n",
    "        # coordinate of the cat\n",
    "        self.x = 0\n",
    "        self.y = 1\n",
    "\n",
    "        # self time\n",
    "        self.t = 0\n",
    "\n",
    "        self.scale=16\n",
    "\n",
    "        self.to_draw = np.zeros((max_time+2, grid_size*self.scale, grid_size*self.scale, 3))\n",
    "\n",
    "\n",
    "    def draw(self,e):\n",
    "        skvideo.io.vwrite(str(e) + '.mp4', self.to_draw)\n",
    "\n",
    "    def get_frame(self,t):\n",
    "        b = np.zeros((self.grid_size,self.grid_size,3))+128\n",
    "        b[self.board>0,0] = 256\n",
    "        b[self.board < 0, 2] = 256\n",
    "        b[self.x,self.y,:]=256\n",
    "        b[-2:,:,:]=0\n",
    "        b[:,-2:,:]=0\n",
    "        b[:2,:,:]=0\n",
    "        b[:,:2,:]=0\n",
    "        \n",
    "        b =  cv2.resize(b, None, fx=self.scale, fy=self.scale, interpolation=cv2.INTER_NEAREST)\n",
    "\n",
    "        self.to_draw[t,:,:,:]=b\n",
    "\n",
    "\n",
    "    def act(self, action):\n",
    "        \"\"\"This function returns the new state, reward and decides if the\n",
    "        game ends.\"\"\"\n",
    "\n",
    "        self.get_frame(int(self.t))\n",
    "\n",
    "        self.position = np.zeros((self.grid_size, self.grid_size))\n",
    "\n",
    "        self.position[0:2,:]= -1\n",
    "        self.position[:,0:2] = -1\n",
    "        self.position[-2:, :] = -1\n",
    "        self.position[-2:, :] = -1\n",
    "\n",
    "        self.position[self.x, self.y] = 1\n",
    "        if action == 0:\n",
    "            if self.x == self.grid_size-3:\n",
    "                self.x = self.x-1\n",
    "            else:\n",
    "                self.x = self.x + 1\n",
    "        elif action == 1:\n",
    "            if self.x == 2:\n",
    "                self.x = self.x+1\n",
    "            else:\n",
    "                self.x = self.x-1\n",
    "        elif action == 2:\n",
    "            if self.y == self.grid_size - 3:\n",
    "                self.y = self.y - 1\n",
    "            else:\n",
    "                self.y = self.y + 1\n",
    "        elif action == 3:\n",
    "            if self.y == 2:\n",
    "                self.y = self.y + 1\n",
    "            else:\n",
    "                self.y = self.y - 1\n",
    "        else:\n",
    "            RuntimeError('Error: action not recognized')\n",
    "\n",
    "        self.t = self.t + 1\n",
    "        reward = self.board[self.x, self.y]\n",
    "        self.board[self.x, self.y] = 0\n",
    "        game_over = self.t > self.max_time\n",
    "        state = np.concatenate((self.board.reshape(self.grid_size, self.grid_size,1),\n",
    "                        self.position.reshape(self.grid_size, self.grid_size,1)),axis=2)\n",
    "        state = state[self.x-2:self.x+3,self.y-2:self.y+3,:]\n",
    "\n",
    "        return state, reward, game_over\n",
    "\n",
    "    def reset(self):\n",
    "        \"\"\"This function resets the game and returns the initial state\"\"\"\n",
    "\n",
    "        self.x = np.random.randint(3, self.grid_size-3, size=1)[0]\n",
    "        self.y = np.random.randint(3, self.grid_size-3, size=1)[0]\n",
    "\n",
    "\n",
    "        bonus = 0.5*np.random.binomial(1,self.temperature,size=self.grid_size**2)\n",
    "        bonus = bonus.reshape(self.grid_size,self.grid_size)\n",
    "\n",
    "        malus = -1.0*np.random.binomial(1,self.temperature,size=self.grid_size**2)\n",
    "        malus = malus.reshape(self.grid_size, self.grid_size)\n",
    "\n",
    "        self.to_draw = np.zeros((self.max_time+2, self.grid_size*self.scale, self.grid_size*self.scale, 3))\n",
    "\n",
    "\n",
    "        malus[bonus>0]=0\n",
    "\n",
    "        self.board = bonus + malus\n",
    "\n",
    "        self.position = np.zeros((self.grid_size, self.grid_size))\n",
    "        self.position[0:2,:]= -1\n",
    "        self.position[:,0:2] = -1\n",
    "        self.position[-2:, :] = -1\n",
    "        self.position[-2:, :] = -1\n",
    "        self.board[self.x,self.y] = 0\n",
    "        self.t = 0\n",
    "\n",
    "        state = np.concatenate((\n",
    "                               self.board.reshape(self.grid_size, self.grid_size,1),\n",
    "                        self.position.reshape(self.grid_size, self.grid_size,1)),axis=2)\n",
    "\n",
    "        state = state[self.x - 2:self.x + 3, self.y - 2:self.y + 3, :]\n",
    "        return state"
   ]
  },
  {
   "cell_type": "markdown",
   "metadata": {},
   "source": [
    "The following elements are important because they correspond to the hyper parameters for this project:"
   ]
  },
  {
   "cell_type": "code",
   "execution_count": 5,
   "metadata": {},
   "outputs": [],
   "source": [
    "# parameters\n",
    "size = 13\n",
    "T=200\n",
    "temperature=0.3\n",
    "epochs_train=100 # set small when debugging\n",
    "epochs_test=10 # set small when debugging\n",
    "\n",
    "# display videos\n",
    "def display_videos(name):\n",
    "    video = io.open(name, 'r+b').read()\n",
    "    encoded = base64.b64encode(video)\n",
    "    return '''<video alt=\"test\" controls>\n",
    "                <source src=\"data:video/mp4;base64,{0}\" type=\"video/mp4\" />\n",
    "             </video>'''.format(encoded.decode('ascii'))"
   ]
  },
  {
   "cell_type": "markdown",
   "metadata": {},
   "source": [
    "***\n",
    "__Question 2__ Explain the use of the arrays ```position``` and ```board```.\n",
    "***"
   ]
  },
  {
   "cell_type": "markdown",
   "metadata": {},
   "source": [
    "***\n",
    "__Answer:__ The array ```position``` keeps track of the collision  : 1 for player and -1 for border. The array ```board``` corresponds to the reward associated to the position on the grid. \n",
    "***"
   ]
  },
  {
   "cell_type": "markdown",
   "metadata": {},
   "source": [
    "## Random Agent"
   ]
  },
  {
   "cell_type": "markdown",
   "metadata": {},
   "source": [
    "***\n",
    "__Question 3__ Implement a random Agent (only ```learned_act``` needs to be implemented):"
   ]
  },
  {
   "cell_type": "code",
   "execution_count": 6,
   "metadata": {},
   "outputs": [],
   "source": [
    "class RandomAgent(Agent):\n",
    "    def __init__(self):\n",
    "        super(RandomAgent, self).__init__()\n",
    "        pass\n",
    "\n",
    "    def learned_act(self, s):\n",
    "        return np.random.randint(self.n_action)"
   ]
  },
  {
   "cell_type": "markdown",
   "metadata": {},
   "source": [
    "***\n",
    "***\n",
    "__Question 4__ Visualize the game moves. You need to fill in the following function for the evaluation:"
   ]
  },
  {
   "cell_type": "code",
   "execution_count": 7,
   "metadata": {},
   "outputs": [],
   "source": [
    "def test(agent,env,epochs,prefix=''):\n",
    "    # Number of won games\n",
    "    score = 0\n",
    "        \n",
    "    for e in range(epochs):\n",
    "        state = env.reset()\n",
    "        game_over = False\n",
    "        win, lose = 0, 0\n",
    "        \n",
    "        while not game_over:\n",
    "            action = agent.act(state, train = False)  #Sample an action\n",
    "            prev_state = state  \n",
    "            state, reward, game_over = env.act(action)\n",
    "            if reward > 0:\n",
    "                win += reward  #update the loss\n",
    "            if reward < 0:\n",
    "                lose -= reward  #update of the loss\n",
    "            \n",
    "            loss = agent.reinforce(prev_state, state,  action, reward, game_over)  #apply the policy\n",
    "            \n",
    "        # Save as a mp4\n",
    "        env.draw(prefix+str(e))\n",
    "\n",
    "        # Update stats\n",
    "        score = score + win - lose\n",
    "\n",
    "        print(\"Win/lose count {}/{}. Average score ({})\"\n",
    "              .format(win, lose, score/(1+e)))\n",
    "    print('Final score: '+str(score/epochs))"
   ]
  },
  {
   "cell_type": "code",
   "execution_count": 8,
   "metadata": {},
   "outputs": [
    {
     "name": "stdout",
     "output_type": "stream",
     "text": [
      "Win/lose count 7.5/8.0. Average score (-0.5)\n",
      "Win/lose count 10.0/12.0. Average score (-1.25)\n",
      "Win/lose count 7.0/22.0. Average score (-5.833333333333333)\n",
      "Win/lose count 9.5/14.0. Average score (-5.5)\n",
      "Win/lose count 11.0/17.0. Average score (-5.6)\n",
      "Win/lose count 7.5/17.0. Average score (-6.25)\n",
      "Win/lose count 10.0/16.0. Average score (-6.214285714285714)\n",
      "Win/lose count 4.0/12.0. Average score (-6.4375)\n",
      "Win/lose count 14.5/13.0. Average score (-5.555555555555555)\n",
      "Win/lose count 9.5/16.0. Average score (-5.65)\n",
      "Final score: -5.65\n"
     ]
    },
    {
     "data": {
      "text/html": [
       "<video alt=\"test\" controls>\n",
       "                <source src=\"data:video/mp4;base64,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\" type=\"video/mp4\" />\n",
       "             </video>"
      ],
      "text/plain": [
       "<IPython.core.display.HTML object>"
      ]
     },
     "execution_count": 8,
     "metadata": {},
     "output_type": "execute_result"
    }
   ],
   "source": [
    "# Initialize the game\n",
    "env = Environment(grid_size=size, max_time=T,temperature=temperature)\n",
    "\n",
    "# Initialize the agent!\n",
    "agent = RandomAgent()\n",
    "\n",
    "test(agent,env,epochs_test,prefix='random')\n",
    "HTML(display_videos('random0.mp4'))"
   ]
  },
  {
   "cell_type": "markdown",
   "metadata": {},
   "source": [
    "***\n",
    "## DQN"
   ]
  },
  {
   "cell_type": "markdown",
   "metadata": {},
   "source": [
    "Let us assume here that $T=\\infty$.\n",
    "\n",
    "***\n",
    "__Question 5__ Let $\\pi$ be a policy, show that:\n",
    "\n",
    "\\begin{equation*}\n",
    "Q^{\\pi}(s,a)=E_{(s',a')\\sim p(.|s,a)}[r(s,a)+\\gamma Q^{\\pi}(s',a')]\n",
    "\\end{equation*}\n",
    "\n",
    "Then, show that for the optimal policy $\\pi^*$ (we assume its existence), the following holds: \n",
    "\n",
    "\\begin{equation*}\n",
    "Q^{*}(s,a)=E_{s'\\sim \\pi^*(.|s,a)}[r(s,a)+\\gamma\\max_{a'}Q^{*}(s',a')].\n",
    "\\end{equation*}\n",
    "Finally, deduce that a plausible objective is:\n",
    "\n",
    "\\begin{equation*}\n",
    "\\mathcal{L}(\\theta)=E_{s' \\sim \\pi^*(.|s,a)}\\Vert r+\\gamma\\max\\max_{a'}Q(s',a',\\theta)-Q(s,a,\\theta)\\Vert^{2}.\n",
    "\\end{equation*}\n",
    "***\n",
    "\n"
   ]
  },
  {
   "cell_type": "markdown",
   "metadata": {},
   "source": [
    "***\n",
    "__Answer:__ By definition we have :\n",
    "\n",
    "\\begin{equation*}\n",
    "Q^\\pi(s,a)=E_{p^{\\pi}}\\left[\\sum_{t=0}^\\infty \\gamma^{t}r(s_{t},a_{t})|s_{0}=s,a_{0}=a\\right] \\> .\n",
    "\\end{equation*}\n",
    "\n",
    "Thus we can extract the term $t=0$ and write :\n",
    "\n",
    "\\begin{align*}\n",
    "Q^\\pi(s,a) &= r(s, a) + \\gamma E_{p^{\\pi}}\\left[\\sum_{t=0}^\\infty \\gamma^{t}r(s_{t+1},a_{t+1})|s_{0}=s,a_{0}=a\\right] \\\\\n",
    "&= r(s, a) + \\gamma \\sum_{s', a'} p(s' | s, a) \\pi(a' | s')E_{p^{\\pi}}\\left[\\sum_{t=0}^\\infty \\gamma^{t}r(s_{t+1},a_{t+1})|s_{0}=s,a_{0}=a, s_{1}=s',a_{1}=a'\\right] \\\\\n",
    "&= r(s, a) + \\gamma \\sum_{s', a'} p(s' | s, a) \\pi(a' | s')E_{p^{\\pi}}\\left[\\sum_{t=0}^\\infty \\gamma^{t}r(s_{t+1},a_{t+1})|s_{1}=s',a_{1}=a'\\right] \\quad \\text{(Markov property)}\\\\\n",
    "&= r(s, a) + \\gamma \\sum_{s', a'} p(s' | s, a) \\pi(a' | s')Q^\\pi(s', a') \\\\\n",
    "&=E_{(s',a')\\sim p(.|s,a)}[r(s,a)+\\gamma Q^{\\pi}(s',a')]\n",
    "\\end{align*}\n",
    "\n",
    "If the optimal policy $\\pi^*$ exists we have :\n",
    "\n",
    "\\begin{align*} \n",
    "Q^{\\pi^*}(s,a) &= \\underset{\\pi}{\\max} Q^\\pi(s,a) \\\\\n",
    "&= E_{s'\\sim \\pi^(.|s,a)} [r(s,a)+\\gamma\\max_{a'}Q^{}(s',a')] \n",
    "\\end{align*}\n",
    "\n",
    "because of the first proof and because the policy is maximized over actions $a'$. Finally, since we want to minimize the difference between $Q$ and the target $Q(s, a, \\theta)$ the plausible objective is :\n",
    "\n",
    "\\begin{equation*}\n",
    "\\mathcal{L}(\\theta)=E_{s' \\sim \\pi^*(.|s,a)}\\Vert r+\\gamma\\max_{a'}Q(s',a',\\theta)-Q(s,a,\\theta)\\Vert^{2}.\n",
    "\\end{equation*}\n",
    "***"
   ]
  },
  {
   "cell_type": "markdown",
   "metadata": {},
   "source": [
    "***\n",
    "The DQN-learning algorithm relies on these derivations to train the parameters $\\theta$ of a Deep Neural Network:\n",
    "\n",
    "1. At the state $s_t$, select the action $a_t$ with best reward using $Q_t$ and store the results;\n",
    "\n",
    "2. Obtain the new state $s_{t+1}$ from the environment $p$;\n",
    "\n",
    "3. Store $(s_t,a_t,s_{t+1})$;\n",
    "\n",
    "4. Obtain $Q_{t+1}$ by minimizing  $\\mathcal{L}$ from a recovered batch from the previously stored results.\n",
    "\n",
    "***\n",
    "__Question 6__ Implement the class ```Memory``` that stores moves (in a replay buffer) via ```remember``` and provides a ```random_access``` to these. Specify a maximum memory size to avoid side effects. You can for example use a ```list()``` and set by default ```max_memory=100```."
   ]
  },
  {
   "cell_type": "code",
   "execution_count": 9,
   "metadata": {},
   "outputs": [],
   "source": [
    "class Memory(object):\n",
    "    \n",
    "    \n",
    "    def __init__(self, max_memory = 100):\n",
    "        self.max_memory = max_memory\n",
    "        self.memory = list()\n",
    "\n",
    "        \n",
    "    def remember(self, m):\n",
    "        if len(self.memory) < self.max_memory:\n",
    "            self.memory.append(m)\n",
    "        else:\n",
    "            self.memory.pop(0)\n",
    "            self.memory.append(m)\n",
    "\n",
    "            \n",
    "    def random_access(self):\n",
    "        index = np.random.randint(len(self.memory))\n",
    "        return self.memory[index]"
   ]
  },
  {
   "cell_type": "markdown",
   "metadata": {},
   "source": [
    "***\n",
    "The pipeline we will use for training is given below:"
   ]
  },
  {
   "cell_type": "code",
   "execution_count": 10,
   "metadata": {},
   "outputs": [],
   "source": [
    "def train(agent,env,epoch,prefix=''):\n",
    "    # Number of won games\n",
    "    score = 0\n",
    "    loss = 0\n",
    "\n",
    "    for e in range(epoch):\n",
    "        # At each epoch, we restart to a fresh game and get the initial state\n",
    "        state = env.reset()\n",
    "        # This assumes that the games will terminate\n",
    "        game_over = False\n",
    "\n",
    "        win = 0\n",
    "        lose = 0\n",
    "\n",
    "        while not game_over:\n",
    "            # The agent performs an action\n",
    "            action = agent.act(state)\n",
    "\n",
    "            # Apply an action to the environment, get the next state, the reward\n",
    "            # and if the games end\n",
    "            prev_state = state\n",
    "            state, reward, game_over = env.act(action)\n",
    "\n",
    "            # Update the counters\n",
    "            if reward > 0:\n",
    "                win = win + reward\n",
    "            if reward < 0:\n",
    "                lose = lose -reward\n",
    "\n",
    "            # Apply the reinforcement strategy\n",
    "            loss = agent.reinforce(prev_state, state,  action, reward, game_over)\n",
    "\n",
    "        # Save as a mp4\n",
    "        if e % 10 == 0:\n",
    "            env.draw(prefix+str(e))\n",
    "\n",
    "        # Update stats\n",
    "        score += win-lose\n",
    "\n",
    "        print(\"Epoch {:03d}/{:03d} | Loss {:.4f} | Win/lose count {}/{} ({})\"\n",
    "              .format(e, epoch, loss, win, lose, win-lose))\n",
    "        agent.save(name_weights=prefix+'model.h5',name_model=prefix+'model.json')"
   ]
  },
  {
   "cell_type": "markdown",
   "metadata": {},
   "source": [
    "***\n",
    "__Question 7__ Implement the DQN training algorithm using a cascade of fully connected layers. You can use different learning rate, batch size or memory size parameters. In particular, the loss might oscillate while the player will start to win the games. You have to find a good criterium."
   ]
  },
  {
   "cell_type": "code",
   "execution_count": 11,
   "metadata": {},
   "outputs": [],
   "source": [
    "class DQN(Agent):\n",
    "    def __init__(self, grid_size,  epsilon = 0.1, memory_size=100, batch_size = 16,n_state=2):\n",
    "        super(DQN, self).__init__(epsilon = epsilon)\n",
    "\n",
    "        # Discount for Q learning\n",
    "        self.discount = 0.99\n",
    "        \n",
    "        self.grid_size = grid_size\n",
    "        \n",
    "        # number of state\n",
    "        self.n_state = n_state\n",
    "\n",
    "        # Memory\n",
    "        self.memory = Memory(memory_size)\n",
    "        \n",
    "        # Batch size when learning\n",
    "        self.batch_size = batch_size\n",
    "\n",
    "    def learned_act(self, s):\n",
    "        pass\n",
    "\n",
    "    def reinforce(self, s_, n_s_, a_, r_, game_over_):\n",
    "        # Two steps: first memorize the states, second learn from the pool\n",
    "\n",
    "        self.memory.remember([s_, n_s_, a_, r_, game_over_])\n",
    "        \n",
    "        input_states = np.zeros((self.batch_size, 5,5,self.n_state))\n",
    "        target_q = np.zeros((self.batch_size, 4))\n",
    "        \n",
    "        for i in range(self.batch_size):\n",
    "            s, n_s, a, r, game_over = self.memory.random_access()\n",
    "            target_q[i] = self.model.predict(s.reshape(1, 5, 5, self.n_state))\n",
    "        \n",
    "            if not game_over_:\n",
    "                target_q[i][a] = r + self.discount * np.max(self.model.predict(n_s.reshape(1, 5, 5, self.n_state)))\n",
    "            else:\n",
    "                target_q[i][a] = r\n",
    "                \n",
    "            input_states[i] = s\n",
    "        \n",
    "        # HINT: Clip the target to avoid exploiding gradients.. -- clipping is a bit tighter\n",
    "        target_q = np.clip(target_q, -3, 3)\n",
    "\n",
    "        l = self.model.train_on_batch(input_states, target_q)\n",
    "        return l\n",
    "\n",
    "\n",
    "    def save(self,name_weights='model.h5',name_model='model.json'):\n",
    "        self.model.save_weights(name_weights, overwrite=True)\n",
    "        with open(name_model, \"w\") as outfile:\n",
    "            json.dump(self.model.to_json(), outfile)\n",
    "            \n",
    "    def load(self,name_weights='model.h5',name_model='model.json'):\n",
    "        with open(name_model, \"r\") as jfile:\n",
    "            model = model_from_json(json.load(jfile))\n",
    "        model.load_weights(name_weights)\n",
    "        model.compile(\"sgd\", \"mse\")\n",
    "        self.model = model\n",
    "\n",
    "\n",
    "class DQN_FC(DQN):\n",
    "    def __init__(self, *args, lr = 0.1, **kwargs):\n",
    "        super(DQN_FC, self).__init__( *args, **kwargs)\n",
    "        \n",
    "        # NN Model\n",
    "        model = Sequential()\n",
    "        model.add(Reshape((5 * 5 * self.n_state,)))\n",
    "        model.add(Dense(25, input_dim = 5 * 5 * self.n_state, activation = 'relu'))\n",
    "        model.add(Dense(15, activation = 'relu'))\n",
    "        model.add(Dense(4, activation = 'linear'))\n",
    "\n",
    "        model.compile(sgd(lr = lr, decay = 1e-4, momentum = 0.0), \"mse\")\n",
    "        self.model = model\n",
    "        "
   ]
  },
  {
   "cell_type": "code",
   "execution_count": 12,
   "metadata": {
    "scrolled": true
   },
   "outputs": [
    {
     "name": "stdout",
     "output_type": "stream",
     "text": [
      "WARNING:tensorflow:From /Users/theocomperot/anaconda3/lib/python3.7/site-packages/tensorflow/python/framework/op_def_library.py:263: colocate_with (from tensorflow.python.framework.ops) is deprecated and will be removed in a future version.\n",
      "Instructions for updating:\n",
      "Colocations handled automatically by placer.\n",
      "WARNING:tensorflow:From /Users/theocomperot/anaconda3/lib/python3.7/site-packages/tensorflow/python/ops/math_ops.py:3066: to_int32 (from tensorflow.python.ops.math_ops) is deprecated and will be removed in a future version.\n",
      "Instructions for updating:\n",
      "Use tf.cast instead.\n",
      "Epoch 000/100 | Loss 7.5696 | Win/lose count 2.0/2.0 (0.0)\n",
      "Epoch 001/100 | Loss 6.7956 | Win/lose count 4.0/0 (4.0)\n",
      "Epoch 002/100 | Loss 5.8423 | Win/lose count 3.0/2.0 (1.0)\n",
      "Epoch 003/100 | Loss 7.2863 | Win/lose count 1.0/1.0 (0.0)\n",
      "Epoch 004/100 | Loss 3.0969 | Win/lose count 0/1.0 (-1.0)\n",
      "Epoch 005/100 | Loss 5.5239 | Win/lose count 1.0/3.0 (-2.0)\n",
      "Epoch 006/100 | Loss 3.2578 | Win/lose count 1.5/3.0 (-1.5)\n",
      "Epoch 007/100 | Loss 3.3595 | Win/lose count 1.5/2.0 (-0.5)\n",
      "Epoch 008/100 | Loss 2.7456 | Win/lose count 1.0/1.0 (0.0)\n",
      "Epoch 009/100 | Loss 2.8400 | Win/lose count 1.0/3.0 (-2.0)\n",
      "Epoch 010/100 | Loss 2.6515 | Win/lose count 0.5/4.0 (-3.5)\n",
      "Epoch 011/100 | Loss 2.3333 | Win/lose count 3.0/4.0 (-1.0)\n",
      "Epoch 012/100 | Loss 1.8959 | Win/lose count 1.0/3.0 (-2.0)\n",
      "Epoch 013/100 | Loss 1.8660 | Win/lose count 0.5/4.0 (-3.5)\n",
      "Epoch 014/100 | Loss 1.7513 | Win/lose count 0.5/3.0 (-2.5)\n",
      "Epoch 015/100 | Loss 1.3896 | Win/lose count 2.0/2.0 (0.0)\n",
      "Epoch 016/100 | Loss 1.3213 | Win/lose count 2.0/1.0 (1.0)\n",
      "Epoch 017/100 | Loss 1.1789 | Win/lose count 2.5/3.0 (-0.5)\n",
      "Epoch 018/100 | Loss 1.2561 | Win/lose count 1.5/3.0 (-1.5)\n",
      "Epoch 019/100 | Loss 1.1401 | Win/lose count 0.5/7.0 (-6.5)\n",
      "Epoch 020/100 | Loss 0.9251 | Win/lose count 2.5/4.0 (-1.5)\n",
      "Epoch 021/100 | Loss 0.7102 | Win/lose count 2.0/1.0 (1.0)\n",
      "Epoch 022/100 | Loss 0.7726 | Win/lose count 2.5/1.0 (1.5)\n",
      "Epoch 023/100 | Loss 0.8081 | Win/lose count 1.5/2.0 (-0.5)\n",
      "Epoch 024/100 | Loss 0.6627 | Win/lose count 1.0/0 (1.0)\n",
      "Epoch 025/100 | Loss 0.7189 | Win/lose count 1.0/3.0 (-2.0)\n",
      "Epoch 026/100 | Loss 0.6477 | Win/lose count 2.5/2.0 (0.5)\n",
      "Epoch 027/100 | Loss 0.7451 | Win/lose count 2.5/3.0 (-0.5)\n",
      "Epoch 028/100 | Loss 0.6869 | Win/lose count 0/2.0 (-2.0)\n",
      "Epoch 029/100 | Loss 0.6765 | Win/lose count 2.5/2.0 (0.5)\n",
      "Epoch 030/100 | Loss 0.6533 | Win/lose count 1.5/3.0 (-1.5)\n",
      "Epoch 031/100 | Loss 0.6000 | Win/lose count 1.0/4.0 (-3.0)\n",
      "Epoch 032/100 | Loss 0.6063 | Win/lose count 1.0/2.0 (-1.0)\n",
      "Epoch 033/100 | Loss 0.5667 | Win/lose count 0.5/1.0 (-0.5)\n",
      "Epoch 034/100 | Loss 0.5061 | Win/lose count 1.5/1.0 (0.5)\n",
      "Epoch 035/100 | Loss 0.5158 | Win/lose count 1.5/2.0 (-0.5)\n",
      "Epoch 036/100 | Loss 0.4840 | Win/lose count 3.0/2.0 (1.0)\n",
      "Epoch 037/100 | Loss 0.4709 | Win/lose count 1.0/2.0 (-1.0)\n",
      "Epoch 038/100 | Loss 0.4688 | Win/lose count 5.5/4.0 (1.5)\n",
      "Epoch 039/100 | Loss 0.5048 | Win/lose count 2.0/1.0 (1.0)\n",
      "Epoch 040/100 | Loss 0.4478 | Win/lose count 2.5/2.0 (0.5)\n",
      "Epoch 041/100 | Loss 0.4638 | Win/lose count 1.0/1.0 (0.0)\n",
      "Epoch 042/100 | Loss 0.4489 | Win/lose count 2.0/3.0 (-1.0)\n",
      "Epoch 043/100 | Loss 0.4410 | Win/lose count 0.5/3.0 (-2.5)\n",
      "Epoch 044/100 | Loss 0.4377 | Win/lose count 1.0/3.0 (-2.0)\n",
      "Epoch 045/100 | Loss 0.4279 | Win/lose count 2.0/2.0 (0.0)\n",
      "Epoch 046/100 | Loss 0.4213 | Win/lose count 2.0/3.0 (-1.0)\n",
      "Epoch 047/100 | Loss 0.3968 | Win/lose count 2.0/4.0 (-2.0)\n",
      "Epoch 048/100 | Loss 0.4315 | Win/lose count 0.5/5.0 (-4.5)\n",
      "Epoch 049/100 | Loss 0.3742 | Win/lose count 1.0/3.0 (-2.0)\n",
      "Epoch 050/100 | Loss 0.3779 | Win/lose count 2.0/4.0 (-2.0)\n",
      "Epoch 051/100 | Loss 0.3426 | Win/lose count 2.5/1.0 (1.5)\n",
      "Epoch 052/100 | Loss 0.3451 | Win/lose count 2.0/3.0 (-1.0)\n",
      "Epoch 053/100 | Loss 0.2875 | Win/lose count 2.0/2.0 (0.0)\n",
      "Epoch 054/100 | Loss 0.2677 | Win/lose count 1.5/2.0 (-0.5)\n",
      "Epoch 055/100 | Loss 0.2969 | Win/lose count 2.0/4.0 (-2.0)\n",
      "Epoch 056/100 | Loss 0.2666 | Win/lose count 1.5/1.0 (0.5)\n",
      "Epoch 057/100 | Loss 0.2752 | Win/lose count 1.5/2.0 (-0.5)\n",
      "Epoch 058/100 | Loss 0.2881 | Win/lose count 1.0/1.0 (0.0)\n",
      "Epoch 059/100 | Loss 0.3122 | Win/lose count 1.0/2.0 (-1.0)\n",
      "Epoch 060/100 | Loss 0.3278 | Win/lose count 1.0/1.0 (0.0)\n",
      "Epoch 061/100 | Loss 0.3346 | Win/lose count 2.0/2.0 (0.0)\n",
      "Epoch 062/100 | Loss 0.3206 | Win/lose count 1.5/2.0 (-0.5)\n",
      "Epoch 063/100 | Loss 0.3253 | Win/lose count 2.0/0 (2.0)\n",
      "Epoch 064/100 | Loss 0.3148 | Win/lose count 2.0/6.0 (-4.0)\n",
      "Epoch 065/100 | Loss 0.2882 | Win/lose count 2.0/3.0 (-1.0)\n",
      "Epoch 066/100 | Loss 0.2735 | Win/lose count 1.5/4.0 (-2.5)\n",
      "Epoch 067/100 | Loss 0.3076 | Win/lose count 1.5/1.0 (0.5)\n",
      "Epoch 068/100 | Loss 0.2809 | Win/lose count 1.0/5.0 (-4.0)\n",
      "Epoch 069/100 | Loss 0.2231 | Win/lose count 1.0/0 (1.0)\n",
      "Epoch 070/100 | Loss 0.2567 | Win/lose count 1.0/0 (1.0)\n",
      "Epoch 071/100 | Loss 0.2375 | Win/lose count 2.0/1.0 (1.0)\n",
      "Epoch 072/100 | Loss 0.2349 | Win/lose count 2.5/2.0 (0.5)\n",
      "Epoch 073/100 | Loss 0.2361 | Win/lose count 2.5/3.0 (-0.5)\n",
      "Epoch 074/100 | Loss 0.2287 | Win/lose count 3.0/3.0 (0.0)\n",
      "Epoch 075/100 | Loss 0.2304 | Win/lose count 2.0/2.0 (0.0)\n",
      "Epoch 076/100 | Loss 0.2287 | Win/lose count 2.0/2.0 (0.0)\n",
      "Epoch 077/100 | Loss 0.1988 | Win/lose count 3.0/4.0 (-1.0)\n",
      "Epoch 078/100 | Loss 0.2301 | Win/lose count 2.0/6.0 (-4.0)\n",
      "Epoch 079/100 | Loss 0.2143 | Win/lose count 1.5/3.0 (-1.5)\n",
      "Epoch 080/100 | Loss 0.2143 | Win/lose count 0/1.0 (-1.0)\n",
      "Epoch 081/100 | Loss 0.2284 | Win/lose count 1.5/1.0 (0.5)\n",
      "Epoch 082/100 | Loss 0.1967 | Win/lose count 0.5/2.0 (-1.5)\n",
      "Epoch 083/100 | Loss 0.2233 | Win/lose count 1.0/2.0 (-1.0)\n",
      "Epoch 084/100 | Loss 0.1833 | Win/lose count 2.0/2.0 (0.0)\n",
      "Epoch 085/100 | Loss 0.1712 | Win/lose count 0.5/4.0 (-3.5)\n",
      "Epoch 086/100 | Loss 0.1963 | Win/lose count 1.5/1.0 (0.5)\n",
      "Epoch 087/100 | Loss 0.1909 | Win/lose count 1.5/0 (1.5)\n",
      "Epoch 088/100 | Loss 0.1980 | Win/lose count 2.0/5.0 (-3.0)\n",
      "Epoch 089/100 | Loss 0.1828 | Win/lose count 1.5/4.0 (-2.5)\n",
      "Epoch 090/100 | Loss 0.1731 | Win/lose count 2.5/3.0 (-0.5)\n",
      "Epoch 091/100 | Loss 0.1886 | Win/lose count 3.0/4.0 (-1.0)\n",
      "Epoch 092/100 | Loss 0.1514 | Win/lose count 1.5/1.0 (0.5)\n",
      "Epoch 093/100 | Loss 0.1598 | Win/lose count 2.5/1.0 (1.5)\n",
      "Epoch 094/100 | Loss 0.1664 | Win/lose count 1.0/2.0 (-1.0)\n",
      "Epoch 095/100 | Loss 0.1424 | Win/lose count 1.0/2.0 (-1.0)\n",
      "Epoch 096/100 | Loss 0.1316 | Win/lose count 1.5/1.0 (0.5)\n",
      "Epoch 097/100 | Loss 0.1366 | Win/lose count 2.0/3.0 (-1.0)\n",
      "Epoch 098/100 | Loss 0.1306 | Win/lose count 2.0/2.0 (0.0)\n",
      "Epoch 099/100 | Loss 0.1326 | Win/lose count 0.5/4.0 (-3.5)\n"
     ]
    },
    {
     "data": {
      "text/html": [
       "<video alt=\"test\" controls>\n",
       "                <source src=\"data:video/mp4;base64,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\" type=\"video/mp4\" />\n",
       "             </video>"
      ],
      "text/plain": [
       "<IPython.core.display.HTML object>"
      ]
     },
     "execution_count": 12,
     "metadata": {},
     "output_type": "execute_result"
    }
   ],
   "source": [
    "env = Environment(grid_size=size, max_time=T, temperature=0.3)\n",
    "agent = DQN_FC(size, lr=.1, epsilon = 0.1, memory_size=2000, batch_size = 32)\n",
    "train(agent, env, epochs_train, prefix='fc_train')\n",
    "HTML(display_videos('fc_train10.mp4'))"
   ]
  },
  {
   "cell_type": "markdown",
   "metadata": {},
   "source": [
    "***\n",
    "***\n",
    "__Question 8__ Implement the DQN training algorithm using a CNN (for example, 2 convolutional layers and one final fully connected layer)."
   ]
  },
  {
   "cell_type": "code",
   "execution_count": 18,
   "metadata": {},
   "outputs": [],
   "source": [
    "class DQN_CNN(DQN):\n",
    "    def __init__(self, *args,lr=0.1,**kwargs):\n",
    "        super(DQN_CNN, self).__init__(*args,**kwargs)\n",
    "        \n",
    "        model = Sequential()\n",
    "\n",
    "        model.add(Conv2D(32, (2, 2), activation='relu', input_shape=(5, 5, self.n_state)))\n",
    "        model.add(Conv2D(16, (2, 2), activation='relu'))\n",
    "        model.add(Dropout(0.2))\n",
    "        model.add(Flatten())\n",
    "        model.add(Dense(20, activation='relu'))\n",
    "        model.add(Dropout(0.2))\n",
    "        model.add(Dense(4, activation='linear'))\n",
    "                \n",
    "        model.compile(sgd(lr=lr, decay=1e-4, momentum=0.0), \"mse\")\n",
    "        self.model = model"
   ]
  },
  {
   "cell_type": "code",
   "execution_count": 19,
   "metadata": {
    "scrolled": true
   },
   "outputs": [
    {
     "name": "stdout",
     "output_type": "stream",
     "text": [
      "WARNING:tensorflow:From /Users/theocomperot/anaconda3/lib/python3.7/site-packages/keras/backend/tensorflow_backend.py:3445: calling dropout (from tensorflow.python.ops.nn_ops) with keep_prob is deprecated and will be removed in a future version.\n",
      "Instructions for updating:\n",
      "Please use `rate` instead of `keep_prob`. Rate should be set to `rate = 1 - keep_prob`.\n",
      "Epoch 000/100 | Loss 0.0354 | Win/lose count 1.5/1.0 (0.5)\n",
      "Epoch 001/100 | Loss 0.0739 | Win/lose count 2.0/2.0 (0.0)\n",
      "Epoch 002/100 | Loss 0.0899 | Win/lose count 1.5/6.0 (-4.5)\n",
      "Epoch 003/100 | Loss 0.0917 | Win/lose count 1.5/0 (1.5)\n",
      "Epoch 004/100 | Loss 0.0925 | Win/lose count 2.0/3.0 (-1.0)\n",
      "Epoch 005/100 | Loss 0.0751 | Win/lose count 1.0/1.0 (0.0)\n",
      "Epoch 006/100 | Loss 0.0787 | Win/lose count 1.0/2.0 (-1.0)\n",
      "Epoch 007/100 | Loss 0.0668 | Win/lose count 1.5/3.0 (-1.5)\n",
      "Epoch 008/100 | Loss 0.0617 | Win/lose count 1.0/1.0 (0.0)\n",
      "Epoch 009/100 | Loss 0.0452 | Win/lose count 0.5/3.0 (-2.5)\n",
      "Epoch 010/100 | Loss 0.0381 | Win/lose count 2.5/4.0 (-1.5)\n",
      "Epoch 011/100 | Loss 0.0323 | Win/lose count 2.0/5.0 (-3.0)\n",
      "Epoch 012/100 | Loss 0.0278 | Win/lose count 2.0/2.0 (0.0)\n",
      "Epoch 013/100 | Loss 0.0267 | Win/lose count 2.5/2.0 (0.5)\n",
      "Epoch 014/100 | Loss 0.0346 | Win/lose count 1.5/1.0 (0.5)\n",
      "Epoch 015/100 | Loss 0.0231 | Win/lose count 3.0/1.0 (2.0)\n",
      "Epoch 016/100 | Loss 0.0216 | Win/lose count 1.0/7.0 (-6.0)\n",
      "Epoch 017/100 | Loss 0.0208 | Win/lose count 1.5/1.0 (0.5)\n",
      "Epoch 018/100 | Loss 0.0297 | Win/lose count 0.5/0 (0.5)\n",
      "Epoch 019/100 | Loss 0.0193 | Win/lose count 0.5/1.0 (-0.5)\n",
      "Epoch 020/100 | Loss 0.0202 | Win/lose count 2.5/1.0 (1.5)\n",
      "Epoch 021/100 | Loss 0.0185 | Win/lose count 0.5/1.0 (-0.5)\n",
      "Epoch 022/100 | Loss 0.0176 | Win/lose count 0.5/3.0 (-2.5)\n",
      "Epoch 023/100 | Loss 0.0160 | Win/lose count 1.5/4.0 (-2.5)\n",
      "Epoch 024/100 | Loss 0.0126 | Win/lose count 1.5/3.0 (-1.5)\n",
      "Epoch 025/100 | Loss 0.0120 | Win/lose count 1.0/3.0 (-2.0)\n",
      "Epoch 026/100 | Loss 0.0125 | Win/lose count 3.0/2.0 (1.0)\n",
      "Epoch 027/100 | Loss 0.0103 | Win/lose count 1.0/3.0 (-2.0)\n",
      "Epoch 028/100 | Loss 0.0100 | Win/lose count 2.0/2.0 (0.0)\n",
      "Epoch 029/100 | Loss 0.0187 | Win/lose count 2.0/2.0 (0.0)\n",
      "Epoch 030/100 | Loss 0.0168 | Win/lose count 0.5/4.0 (-3.5)\n",
      "Epoch 031/100 | Loss 0.0152 | Win/lose count 2.0/4.0 (-2.0)\n",
      "Epoch 032/100 | Loss 0.0071 | Win/lose count 1.5/1.0 (0.5)\n",
      "Epoch 033/100 | Loss 0.0234 | Win/lose count 2.0/5.0 (-3.0)\n",
      "Epoch 034/100 | Loss 0.0140 | Win/lose count 2.0/2.0 (0.0)\n",
      "Epoch 035/100 | Loss 0.0060 | Win/lose count 2.0/2.0 (0.0)\n",
      "Epoch 036/100 | Loss 0.0136 | Win/lose count 2.0/3.0 (-1.0)\n",
      "Epoch 037/100 | Loss 0.0251 | Win/lose count 2.0/0 (2.0)\n",
      "Epoch 038/100 | Loss 0.0046 | Win/lose count 0/2.0 (-2.0)\n",
      "Epoch 039/100 | Loss 0.0136 | Win/lose count 2.5/3.0 (-0.5)\n",
      "Epoch 040/100 | Loss 0.0048 | Win/lose count 1.5/1.0 (0.5)\n",
      "Epoch 041/100 | Loss 0.0050 | Win/lose count 1.0/1.0 (0.0)\n",
      "Epoch 042/100 | Loss 0.0055 | Win/lose count 1.0/5.0 (-4.0)\n",
      "Epoch 043/100 | Loss 0.0041 | Win/lose count 1.0/1.0 (0.0)\n",
      "Epoch 044/100 | Loss 0.0072 | Win/lose count 2.0/1.0 (1.0)\n",
      "Epoch 045/100 | Loss 0.0046 | Win/lose count 2.0/0 (2.0)\n",
      "Epoch 046/100 | Loss 0.0051 | Win/lose count 0.5/5.0 (-4.5)\n",
      "Epoch 047/100 | Loss 0.0136 | Win/lose count 1.5/2.0 (-0.5)\n",
      "Epoch 048/100 | Loss 0.0062 | Win/lose count 0/3.0 (-3.0)\n",
      "Epoch 049/100 | Loss 0.0128 | Win/lose count 0.5/6.0 (-5.5)\n",
      "Epoch 050/100 | Loss 0.0033 | Win/lose count 0.5/3.0 (-2.5)\n",
      "Epoch 051/100 | Loss 0.0044 | Win/lose count 2.5/3.0 (-0.5)\n",
      "Epoch 052/100 | Loss 0.0106 | Win/lose count 2.5/5.0 (-2.5)\n",
      "Epoch 053/100 | Loss 0.0184 | Win/lose count 0.5/1.0 (-0.5)\n",
      "Epoch 054/100 | Loss 0.0111 | Win/lose count 2.5/5.0 (-2.5)\n",
      "Epoch 055/100 | Loss 0.0012 | Win/lose count 2.5/0 (2.5)\n",
      "Epoch 056/100 | Loss 0.0086 | Win/lose count 2.0/5.0 (-3.0)\n",
      "Epoch 057/100 | Loss 0.0023 | Win/lose count 3.5/6.0 (-2.5)\n",
      "Epoch 058/100 | Loss 0.0165 | Win/lose count 2.5/4.0 (-1.5)\n",
      "Epoch 059/100 | Loss 0.0002 | Win/lose count 3.0/2.0 (1.0)\n",
      "Epoch 060/100 | Loss 0.0163 | Win/lose count 0/1.0 (-1.0)\n",
      "Epoch 061/100 | Loss 0.0085 | Win/lose count 0.5/1.0 (-0.5)\n",
      "Epoch 062/100 | Loss 0.0165 | Win/lose count 2.5/3.0 (-0.5)\n",
      "Epoch 063/100 | Loss 0.0022 | Win/lose count 1.0/3.0 (-2.0)\n",
      "Epoch 064/100 | Loss 0.0105 | Win/lose count 2.0/0 (2.0)\n",
      "Epoch 065/100 | Loss 0.0013 | Win/lose count 4.0/2.0 (2.0)\n",
      "Epoch 066/100 | Loss 0.0016 | Win/lose count 2.0/5.0 (-3.0)\n",
      "Epoch 067/100 | Loss 0.0050 | Win/lose count 1.5/3.0 (-1.5)\n",
      "Epoch 068/100 | Loss 0.0041 | Win/lose count 2.0/1.0 (1.0)\n",
      "Epoch 069/100 | Loss 0.0126 | Win/lose count 0.5/4.0 (-3.5)\n",
      "Epoch 070/100 | Loss 0.0143 | Win/lose count 2.5/3.0 (-0.5)\n",
      "Epoch 071/100 | Loss 0.0062 | Win/lose count 0.5/1.0 (-0.5)\n",
      "Epoch 072/100 | Loss 0.0232 | Win/lose count 2.5/2.0 (0.5)\n",
      "Epoch 073/100 | Loss 0.0144 | Win/lose count 1.5/2.0 (-0.5)\n",
      "Epoch 074/100 | Loss 0.0051 | Win/lose count 1.0/1.0 (0.0)\n",
      "Epoch 075/100 | Loss 0.0054 | Win/lose count 2.0/1.0 (1.0)\n",
      "Epoch 076/100 | Loss 0.0066 | Win/lose count 4.0/4.0 (0.0)\n",
      "Epoch 077/100 | Loss 0.0072 | Win/lose count 1.5/2.0 (-0.5)\n",
      "Epoch 078/100 | Loss 0.0143 | Win/lose count 1.5/3.0 (-1.5)\n",
      "Epoch 079/100 | Loss 0.0146 | Win/lose count 2.5/3.0 (-0.5)\n",
      "Epoch 080/100 | Loss 0.0064 | Win/lose count 1.0/2.0 (-1.0)\n",
      "Epoch 081/100 | Loss 0.0058 | Win/lose count 3.0/3.0 (0.0)\n",
      "Epoch 082/100 | Loss 0.0062 | Win/lose count 1.0/3.0 (-2.0)\n",
      "Epoch 083/100 | Loss 0.0059 | Win/lose count 0.5/5.0 (-4.5)\n",
      "Epoch 084/100 | Loss 0.0068 | Win/lose count 1.0/0 (1.0)\n",
      "Epoch 085/100 | Loss 0.0131 | Win/lose count 1.0/4.0 (-3.0)\n",
      "Epoch 086/100 | Loss 0.0057 | Win/lose count 1.5/1.0 (0.5)\n",
      "Epoch 087/100 | Loss 0.0039 | Win/lose count 2.0/5.0 (-3.0)\n",
      "Epoch 088/100 | Loss 0.0041 | Win/lose count 2.5/2.0 (0.5)\n",
      "Epoch 089/100 | Loss 0.0216 | Win/lose count 2.5/4.0 (-1.5)\n",
      "Epoch 090/100 | Loss 0.0058 | Win/lose count 3.0/3.0 (0.0)\n",
      "Epoch 091/100 | Loss 0.0042 | Win/lose count 3.5/4.0 (-0.5)\n",
      "Epoch 092/100 | Loss 0.0047 | Win/lose count 2.0/3.0 (-1.0)\n",
      "Epoch 093/100 | Loss 0.0062 | Win/lose count 1.5/0 (1.5)\n",
      "Epoch 094/100 | Loss 0.0155 | Win/lose count 2.0/2.0 (0.0)\n",
      "Epoch 095/100 | Loss 0.0234 | Win/lose count 2.5/4.0 (-1.5)\n",
      "Epoch 096/100 | Loss 0.0054 | Win/lose count 1.0/5.0 (-4.0)\n",
      "Epoch 097/100 | Loss 0.0078 | Win/lose count 0.5/4.0 (-3.5)\n",
      "Epoch 098/100 | Loss 0.0076 | Win/lose count 2.0/4.0 (-2.0)\n",
      "Epoch 099/100 | Loss 0.0069 | Win/lose count 2.0/1.0 (1.0)\n"
     ]
    },
    {
     "data": {
      "text/html": [
       "<video alt=\"test\" controls>\n",
       "                <source src=\"data:video/mp4;base64,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\" type=\"video/mp4\" />\n",
       "             </video>"
      ],
      "text/plain": [
       "<IPython.core.display.HTML object>"
      ]
     },
     "execution_count": 19,
     "metadata": {},
     "output_type": "execute_result"
    }
   ],
   "source": [
    "env = Environment(grid_size=size, max_time=T, temperature=0.3)\n",
    "agent = DQN_CNN(size, lr=.1, epsilon = 0.1, memory_size=2000, batch_size = 32)\n",
    "train(agent,env,epochs_train,prefix='cnn_train')\n",
    "HTML(display_videos('cnn_train10.mp4'))"
   ]
  },
  {
   "cell_type": "markdown",
   "metadata": {},
   "source": [
    "***\n",
    "***\n",
    "__Question 9__ Test both algorithms and compare their performances. Which issue(s) do you observe? Observe also different behaviors by changing the temperature."
   ]
  },
  {
   "cell_type": "code",
   "execution_count": 20,
   "metadata": {},
   "outputs": [
    {
     "name": "stdout",
     "output_type": "stream",
     "text": [
      "Test of the CNN\n",
      "Win/lose count 0/0. Average score (0.0)\n",
      "Win/lose count 0/0. Average score (0.0)\n",
      "Win/lose count 0/0. Average score (0.0)\n",
      "Win/lose count 0/0. Average score (0.0)\n",
      "Win/lose count 0/0. Average score (0.0)\n",
      "Win/lose count 0/0. Average score (0.0)\n",
      "Win/lose count 0/0. Average score (0.0)\n",
      "Win/lose count 0/0. Average score (0.0)\n",
      "Win/lose count 0/0. Average score (0.0)\n",
      "Win/lose count 0/0. Average score (0.0)\n",
      "Final score: 0.0\n",
      "Test of the FC\n",
      "Win/lose count 0/0. Average score (0.0)\n",
      "Win/lose count 0/0. Average score (0.0)\n",
      "Win/lose count 0/0. Average score (0.0)\n",
      "Win/lose count 0/0. Average score (0.0)\n",
      "Win/lose count 0/0. Average score (0.0)\n",
      "Win/lose count 0/0. Average score (0.0)\n",
      "Win/lose count 0/0. Average score (0.0)\n",
      "Win/lose count 0/0. Average score (0.0)\n",
      "Win/lose count 0/0. Average score (0.0)\n",
      "Win/lose count 0/0. Average score (0.0)\n",
      "Final score: 0.0\n"
     ]
    }
   ],
   "source": [
    "env = Environment(grid_size=size, max_time=T,temperature=0.3)\n",
    "agent_cnn = DQN_CNN(size, lr=.1, epsilon = 0.1, memory_size=2000, batch_size = 32)\n",
    "agent_cnn.load(name_weights='cnn_trainmodel.h5',name_model='cnn_trainmodel.json')\n",
    "\n",
    "agent_fc = DQN_FC(size, lr=.1, epsilon = 0.1, memory_size=2000, batch_size = 32)\n",
    "agent_cnn.load(name_weights='fc_trainmodel.h5',name_model='fc_trainmodel.json')\n",
    "print('Test of the CNN')\n",
    "test(agent_cnn,env,epochs_test,prefix='cnn_test')\n",
    "print('Test of the FC')\n",
    "test(agent_fc,env,epochs_test,prefix='fc_test')"
   ]
  },
  {
   "cell_type": "code",
   "execution_count": 23,
   "metadata": {},
   "outputs": [
    {
     "ename": "FileNotFoundError",
     "evalue": "[Errno 2] No such file or directory: 'cnn_test10.mp4'",
     "output_type": "error",
     "traceback": [
      "\u001b[0;31m---------------------------------------------------------------------------\u001b[0m",
      "\u001b[0;31mFileNotFoundError\u001b[0m                         Traceback (most recent call last)",
      "\u001b[0;32m<ipython-input-23-6258079ce82e>\u001b[0m in \u001b[0;36m<module>\u001b[0;34m\u001b[0m\n\u001b[0;32m----> 1\u001b[0;31m \u001b[0mHTML\u001b[0m\u001b[0;34m(\u001b[0m\u001b[0mdisplay_videos\u001b[0m\u001b[0;34m(\u001b[0m\u001b[0;34m'cnn_test10.mp4'\u001b[0m\u001b[0;34m)\u001b[0m\u001b[0;34m)\u001b[0m\u001b[0;34m\u001b[0m\u001b[0;34m\u001b[0m\u001b[0m\n\u001b[0m",
      "\u001b[0;32m<ipython-input-5-3eefef004da2>\u001b[0m in \u001b[0;36mdisplay_videos\u001b[0;34m(name)\u001b[0m\n\u001b[1;32m      8\u001b[0m \u001b[0;31m# display videos\u001b[0m\u001b[0;34m\u001b[0m\u001b[0;34m\u001b[0m\u001b[0;34m\u001b[0m\u001b[0m\n\u001b[1;32m      9\u001b[0m \u001b[0;32mdef\u001b[0m \u001b[0mdisplay_videos\u001b[0m\u001b[0;34m(\u001b[0m\u001b[0mname\u001b[0m\u001b[0;34m)\u001b[0m\u001b[0;34m:\u001b[0m\u001b[0;34m\u001b[0m\u001b[0;34m\u001b[0m\u001b[0m\n\u001b[0;32m---> 10\u001b[0;31m     \u001b[0mvideo\u001b[0m \u001b[0;34m=\u001b[0m \u001b[0mio\u001b[0m\u001b[0;34m.\u001b[0m\u001b[0mopen\u001b[0m\u001b[0;34m(\u001b[0m\u001b[0mname\u001b[0m\u001b[0;34m,\u001b[0m \u001b[0;34m'r+b'\u001b[0m\u001b[0;34m)\u001b[0m\u001b[0;34m.\u001b[0m\u001b[0mread\u001b[0m\u001b[0;34m(\u001b[0m\u001b[0;34m)\u001b[0m\u001b[0;34m\u001b[0m\u001b[0;34m\u001b[0m\u001b[0m\n\u001b[0m\u001b[1;32m     11\u001b[0m     \u001b[0mencoded\u001b[0m \u001b[0;34m=\u001b[0m \u001b[0mbase64\u001b[0m\u001b[0;34m.\u001b[0m\u001b[0mb64encode\u001b[0m\u001b[0;34m(\u001b[0m\u001b[0mvideo\u001b[0m\u001b[0;34m)\u001b[0m\u001b[0;34m\u001b[0m\u001b[0;34m\u001b[0m\u001b[0m\n\u001b[1;32m     12\u001b[0m     return '''<video alt=\"test\" controls>\n",
      "\u001b[0;31mFileNotFoundError\u001b[0m: [Errno 2] No such file or directory: 'cnn_test10.mp4'"
     ]
    }
   ],
   "source": [
    "HTML(display_videos('cnn_test10.mp4'))"
   ]
  },
  {
   "cell_type": "code",
   "execution_count": 24,
   "metadata": {},
   "outputs": [
    {
     "ename": "FileNotFoundError",
     "evalue": "[Errno 2] No such file or directory: 'fc_test10.mp4'",
     "output_type": "error",
     "traceback": [
      "\u001b[0;31m---------------------------------------------------------------------------\u001b[0m",
      "\u001b[0;31mFileNotFoundError\u001b[0m                         Traceback (most recent call last)",
      "\u001b[0;32m<ipython-input-24-3b7449c17544>\u001b[0m in \u001b[0;36m<module>\u001b[0;34m\u001b[0m\n\u001b[0;32m----> 1\u001b[0;31m \u001b[0mHTML\u001b[0m\u001b[0;34m(\u001b[0m\u001b[0mdisplay_videos\u001b[0m\u001b[0;34m(\u001b[0m\u001b[0;34m'fc_test10.mp4'\u001b[0m\u001b[0;34m)\u001b[0m\u001b[0;34m)\u001b[0m\u001b[0;34m\u001b[0m\u001b[0;34m\u001b[0m\u001b[0m\n\u001b[0m",
      "\u001b[0;32m<ipython-input-5-3eefef004da2>\u001b[0m in \u001b[0;36mdisplay_videos\u001b[0;34m(name)\u001b[0m\n\u001b[1;32m      8\u001b[0m \u001b[0;31m# display videos\u001b[0m\u001b[0;34m\u001b[0m\u001b[0;34m\u001b[0m\u001b[0;34m\u001b[0m\u001b[0m\n\u001b[1;32m      9\u001b[0m \u001b[0;32mdef\u001b[0m \u001b[0mdisplay_videos\u001b[0m\u001b[0;34m(\u001b[0m\u001b[0mname\u001b[0m\u001b[0;34m)\u001b[0m\u001b[0;34m:\u001b[0m\u001b[0;34m\u001b[0m\u001b[0;34m\u001b[0m\u001b[0m\n\u001b[0;32m---> 10\u001b[0;31m     \u001b[0mvideo\u001b[0m \u001b[0;34m=\u001b[0m \u001b[0mio\u001b[0m\u001b[0;34m.\u001b[0m\u001b[0mopen\u001b[0m\u001b[0;34m(\u001b[0m\u001b[0mname\u001b[0m\u001b[0;34m,\u001b[0m \u001b[0;34m'r+b'\u001b[0m\u001b[0;34m)\u001b[0m\u001b[0;34m.\u001b[0m\u001b[0mread\u001b[0m\u001b[0;34m(\u001b[0m\u001b[0;34m)\u001b[0m\u001b[0;34m\u001b[0m\u001b[0;34m\u001b[0m\u001b[0m\n\u001b[0m\u001b[1;32m     11\u001b[0m     \u001b[0mencoded\u001b[0m \u001b[0;34m=\u001b[0m \u001b[0mbase64\u001b[0m\u001b[0;34m.\u001b[0m\u001b[0mb64encode\u001b[0m\u001b[0;34m(\u001b[0m\u001b[0mvideo\u001b[0m\u001b[0;34m)\u001b[0m\u001b[0;34m\u001b[0m\u001b[0;34m\u001b[0m\u001b[0m\n\u001b[1;32m     12\u001b[0m     return '''<video alt=\"test\" controls>\n",
      "\u001b[0;31mFileNotFoundError\u001b[0m: [Errno 2] No such file or directory: 'fc_test10.mp4'"
     ]
    }
   ],
   "source": [
    "HTML(display_videos('fc_test10.mp4'))"
   ]
  },
  {
   "cell_type": "markdown",
   "metadata": {},
   "source": [
    "***\n",
    "__Answer__: We can see that the CNN works better. As explained in the following the agent somtimes gets stuck. We have to enable the exploration. \n",
    "***"
   ]
  },
  {
   "cell_type": "markdown",
   "metadata": {},
   "source": [
    "***\n",
    "\n",
    "The algorithm tends to not explore the map which can be an issue. We propose two ideas in order to encourage exploration:\n",
    "1. Incorporating a decreasing $\\epsilon$-greedy exploration. You can use the method ```set_epsilon```\n",
    "2. Append via the environment a new state that describes if a cell has been visited or not\n",
    "\n",
    "***\n",
    "__Question 10__ Design a new ```train_explore``` function and environment class ```EnvironmentExploring``` to tackle the issue of exploration.\n",
    "\n"
   ]
  },
  {
   "cell_type": "code",
   "execution_count": null,
   "metadata": {
    "collapsed": true
   },
   "outputs": [],
   "source": [
    "def train_explore(agent,env,epoch,prefix=''):\n",
    "    pass\n",
    "        \n",
    "class EnvironmentExploring(object):\n",
    "    def __init__(self, grid_size=10, max_time=500, temperature=0.1):\n",
    "        pass\n",
    "    \n",
    "## use those samples of code:\n",
    "#In train explore:\n",
    "state, reward, game_over = env.act(action, train=True)\n",
    "\n",
    "## In Environment exploring:\n",
    "# You will have to change n_state to 3 because you will use one more layer!\n",
    "reward = 0\n",
    "if train:\n",
    "    reward = -self.malus_position[self.x, self.y]\n",
    "self.malus_position[self.x, self.y] = 0.1\n",
    "\n",
    "reward = reward + self.board[self.x, self.y]\n",
    "# 3 \"feature\" states instead of 2\n",
    "state = np.concatenate((self.malus_position.reshape(self.grid_size, self.grid_size,1),\n",
    "                                self.board.reshape(self.grid_size, self.grid_size,1),\n",
    "                        self.position.reshape(self.grid_size, self.grid_size,1)),axis=2)"
   ]
  },
  {
   "cell_type": "code",
   "execution_count": null,
   "metadata": {
    "collapsed": true
   },
   "outputs": [],
   "source": [
    "# Training\n",
    "env = EnvironmentExploring(grid_size=size, max_time=T, temperature=0.3)\n",
    "agent = DQN_CNN(size, lr=.1, epsilon = 0.1, memory_size=2000, batch_size = 32,n_state=3)\n",
    "train_explore(agent, env, epochs_train, prefix='cnn_train_explore')\n",
    "HTML(display_videos('cnn_train_explore10.mp4'))"
   ]
  },
  {
   "cell_type": "code",
   "execution_count": null,
   "metadata": {
    "collapsed": true
   },
   "outputs": [],
   "source": [
    "# Evaluation\n",
    "test(agent,env,epochs_test,prefix='cnn_test_explore')\n",
    "HTML(display_videos('cnn_test_explore10.mp4'))"
   ]
  },
  {
   "cell_type": "markdown",
   "metadata": {},
   "source": [
    "***\n",
    "***\n",
    "__BONUS question__ Use the expert DQN from the previous question to generate some winning games. Train a model that mimicks its behavior. Compare the performances."
   ]
  },
  {
   "cell_type": "markdown",
   "metadata": {},
   "source": []
  },
  {
   "cell_type": "markdown",
   "metadata": {},
   "source": [
    "***"
   ]
  }
 ],
 "metadata": {
  "kernelspec": {
   "display_name": "Python 3",
   "language": "python",
   "name": "python3"
  },
  "language_info": {
   "codemirror_mode": {
    "name": "ipython",
    "version": 3
   },
   "file_extension": ".py",
   "mimetype": "text/x-python",
   "name": "python",
   "nbconvert_exporter": "python",
   "pygments_lexer": "ipython3",
   "version": "3.7.1"
  }
 },
 "nbformat": 4,
 "nbformat_minor": 2
}
